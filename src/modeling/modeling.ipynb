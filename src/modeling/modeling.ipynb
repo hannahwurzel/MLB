{
 "cells": [
  {
   "cell_type": "code",
   "execution_count": 20,
   "metadata": {},
   "outputs": [],
   "source": [
    "import xgboost as xgb\n",
    "from sklearn.preprocessing import LabelEncoder\n",
    "from sklearn.metrics import classification_report\n",
    "from sklearn.model_selection import train_test_split\n",
    "import pandas as pd\n",
    "import numpy as np"
   ]
  },
  {
   "cell_type": "code",
   "execution_count": 36,
   "metadata": {},
   "outputs": [
    {
     "data": {
      "text/plain": [
       "Index(['date', 'season', 'away_team', 'home_team', 'over_under', 'dayofweek',\n",
       "       'overunder_margin', 'home_days_since_previous_game',\n",
       "       'home_point_win_streak', 'home_point_loss_streak',\n",
       "       'home_overunder_margin', 'home_over_streak', 'home_under_streak',\n",
       "       'home_overunder_season_avg', 'away_days_since_previous_game',\n",
       "       'away_point_win_streak', 'away_point_loss_streak',\n",
       "       'away_overunder_margin', 'away_over_streak', 'away_under_streak',\n",
       "       'away_overunder_season_avg', 'over_line', 'under_line',\n",
       "       'delta_days_since_previous_game', 'delta_point_win_streak',\n",
       "       'delta_point_loss_streak', 'delta_overunder_streak_avg', 'target',\n",
       "       'game_loc', 'max_temp_C', 'min_temp_C', 'precipitation_mm',\n",
       "       'max_wind_speed_kmh', 'dominant_wind_dir_deg'],\n",
       "      dtype='object')"
      ]
     },
     "execution_count": 36,
     "metadata": {},
     "output_type": "execute_result"
    }
   ],
   "source": [
    "df = pd.read_csv(\"/Users/hannahwurzel/Desktop/MLB/data/merged_data.csv\")\n",
    "df.columns"
   ]
  },
  {
   "cell_type": "code",
   "execution_count": 41,
   "metadata": {},
   "outputs": [],
   "source": [
    "df['date'] = pd.to_datetime(df['date'])\n",
    "df['year'] = df['date'].dt.year\n",
    "df['month'] = df['date'].dt.month\n",
    "df['day'] = df['date'].dt.day\n",
    "df['day_of_week'] = df['date'].dt.weekday \n",
    "df['is_weekend'] = df['day_of_week'].isin([5, 6]).astype(int)\n",
    "df = df.drop(['date', 'season', 'overunder_margin'], axis=1)"
   ]
  },
  {
   "cell_type": "code",
   "execution_count": 42,
   "metadata": {},
   "outputs": [
    {
     "name": "stderr",
     "output_type": "stream",
     "text": [
      "/Users/hannahwurzel/Desktop/MLB/.venv/lib/python3.9/site-packages/xgboost/core.py:158: UserWarning: [14:17:36] WARNING: /Users/runner/work/xgboost/xgboost/src/learner.cc:740: \n",
      "Parameters: { \"use_label_encoder\" } are not used.\n",
      "\n",
      "  warnings.warn(smsg, UserWarning)\n"
     ]
    },
    {
     "name": "stdout",
     "output_type": "stream",
     "text": [
      "              precision    recall  f1-score   support\n",
      "\n",
      "        Over       0.50      0.50      0.50       966\n",
      "        Push       0.17      0.01      0.02        83\n",
      "       Under       0.51      0.54      0.52       988\n",
      "\n",
      "    accuracy                           0.50      2037\n",
      "   macro avg       0.39      0.35      0.35      2037\n",
      "weighted avg       0.49      0.50      0.49      2037\n",
      "\n"
     ]
    }
   ],
   "source": [
    "X = df.drop('target', axis=1)\n",
    "le_away = LabelEncoder()\n",
    "X['away_team'] = le_away.fit_transform(X['away_team'])\n",
    "le_home = LabelEncoder()\n",
    "X['home_team'] = le_home.fit_transform(X['home_team'])\n",
    "le_loc = LabelEncoder()\n",
    "X['game_loc'] = le_loc.fit_transform(X['game_loc'])\n",
    "\n",
    "le = LabelEncoder()\n",
    "y = le.fit_transform(df['target'])\n",
    "\n",
    "X_train, X_test, y_train, y_test = train_test_split(X, y, test_size=0.2, random_state=42, stratify=y)\n",
    "\n",
    "\n",
    "model = xgb.XGBClassifier(\n",
    "    objective='multi:softmax',  \n",
    "    num_class=3,        \n",
    "    eval_metric='mlogloss',     \n",
    "    use_label_encoder=False,    \n",
    "    random_state=42\n",
    ")\n",
    "\n",
    "model.fit(X_train, y_train)\n",
    "y_pred = model.predict(X_test)\n",
    "\n",
    "print(classification_report(y_test, y_pred, target_names=le.classes_))\n"
   ]
  },
  {
   "cell_type": "markdown",
   "metadata": {},
   "source": [
    "### going to try one hot encoding (works slightly better!)"
   ]
  },
  {
   "cell_type": "code",
   "execution_count": 44,
   "metadata": {},
   "outputs": [
    {
     "name": "stderr",
     "output_type": "stream",
     "text": [
      "/Users/hannahwurzel/Desktop/MLB/.venv/lib/python3.9/site-packages/xgboost/core.py:158: UserWarning: [14:22:18] WARNING: /Users/runner/work/xgboost/xgboost/src/learner.cc:740: \n",
      "Parameters: { \"use_label_encoder\" } are not used.\n",
      "\n",
      "  warnings.warn(smsg, UserWarning)\n"
     ]
    },
    {
     "name": "stdout",
     "output_type": "stream",
     "text": [
      "              precision    recall  f1-score   support\n",
      "\n",
      "        Over       0.51      0.50      0.51       966\n",
      "        Push       0.00      0.00      0.00        83\n",
      "       Under       0.52      0.56      0.54       988\n",
      "\n",
      "    accuracy                           0.51      2037\n",
      "   macro avg       0.34      0.36      0.35      2037\n",
      "weighted avg       0.49      0.51      0.50      2037\n",
      "\n"
     ]
    }
   ],
   "source": [
    "X = pd.get_dummies(X, columns=['away_team', 'home_team', 'game_loc'], drop_first=True)\n",
    "le = LabelEncoder()\n",
    "y = le.fit_transform(df['target'])\n",
    "\n",
    "X_train, X_test, y_train, y_test = train_test_split(X, y, test_size=0.2, random_state=42, stratify=y)\n",
    "\n",
    "model = xgb.XGBClassifier(\n",
    "    objective='multi:softmax', \n",
    "    num_class=3,                \n",
    "    eval_metric='mlogloss',    \n",
    "    use_label_encoder=False,  \n",
    "    random_state=42\n",
    ")\n",
    "\n",
    "\n",
    "model.fit(X_train, y_train)\n",
    "y_pred = model.predict(X_test)\n",
    "\n",
    "print(classification_report(y_test, y_pred, target_names=le.classes_))\n"
   ]
  },
  {
   "cell_type": "code",
   "execution_count": null,
   "metadata": {},
   "outputs": [],
   "source": []
  },
  {
   "cell_type": "code",
   "execution_count": null,
   "metadata": {},
   "outputs": [],
   "source": []
  },
  {
   "cell_type": "code",
   "execution_count": null,
   "metadata": {},
   "outputs": [],
   "source": []
  },
  {
   "cell_type": "code",
   "execution_count": null,
   "metadata": {},
   "outputs": [],
   "source": []
  }
 ],
 "metadata": {
  "kernelspec": {
   "display_name": ".venv",
   "language": "python",
   "name": "python3"
  },
  "language_info": {
   "codemirror_mode": {
    "name": "ipython",
    "version": 3
   },
   "file_extension": ".py",
   "mimetype": "text/x-python",
   "name": "python",
   "nbconvert_exporter": "python",
   "pygments_lexer": "ipython3",
   "version": "3.9.6"
  }
 },
 "nbformat": 4,
 "nbformat_minor": 2
}
