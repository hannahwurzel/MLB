{
 "cells": [
  {
   "cell_type": "code",
   "execution_count": 4,
   "metadata": {},
   "outputs": [],
   "source": [
    "import pandas as pd\n",
    "from sklearn.model_selection import train_test_split\n",
    "from sklearn.linear_model import LinearRegression\n",
    "from sklearn.metrics import mean_squared_error, mean_absolute_error, r2_score"
   ]
  },
  {
   "cell_type": "markdown",
   "metadata": {},
   "source": [
    "### Running the model with only basic metadata\n",
    "\n",
    "I want to see how well the model performs with nearly no data aside from the game date, the two teams that played, and where the game was played. It performed horribly, as expected."
   ]
  },
  {
   "cell_type": "code",
   "execution_count": 8,
   "metadata": {},
   "outputs": [],
   "source": [
    "df = pd.read_csv('/Users/hannahwurzel/Desktop/MLB/other_data/all_transformed_metadata.csv')\n",
    "df = df.drop(['away_team_score', 'home_team_score'], axis=1)\n",
    "X = df.iloc[:, :-1]\n",
    "y = df.iloc[:, -1]\n",
    "X_train, X_test, y_train, y_test = train_test_split(X, y, test_size=0.2, random_state=42)"
   ]
  },
  {
   "cell_type": "code",
   "execution_count": 9,
   "metadata": {},
   "outputs": [
    {
     "name": "stdout",
     "output_type": "stream",
     "text": [
      "Mean Squared Error: 20.451651295528332\n",
      "Mean Absolute Error: 3.5978595175241783\n",
      "R2: 0.0007029256560994179\n",
      "Coefficients: [-1.10295710e-05 -1.94265712e-02  4.38564123e-03 -2.83317343e-02]\n",
      "Intercept: 17.726888310051812\n"
     ]
    }
   ],
   "source": [
    "model = LinearRegression()\n",
    "model.fit(X_train, y_train)\n",
    "y_pred = model.predict(X_test)\n",
    "\n",
    "mse = mean_squared_error(y_test, y_pred)\n",
    "mae = mean_absolute_error(y_test, y_pred)\n",
    "r2 = r2_score(y_test, y_pred)\n",
    "\n",
    "print(f\"Mean Squared Error: {mse}\")\n",
    "print(f\"Mean Absolute Error: {mae}\")\n",
    "print(f\"R2: {r2}\")\n",
    "print(f\"Coefficients: {model.coef_}\")\n",
    "print(f\"Intercept: {model.intercept_}\")"
   ]
  },
  {
   "cell_type": "markdown",
   "metadata": {},
   "source": [
    "### Running the model with basic metadata and weather data\n",
    "\n",
    "The next data points I wanted to add was weather data. Although, after I did some data analysis, I do not believe these data points will help the model in any way (look under the visualizations folder to see findings). However, I still want to test it out just to see what the results are."
   ]
  },
  {
   "cell_type": "code",
   "execution_count": 13,
   "metadata": {},
   "outputs": [],
   "source": [
    "df_with_weather = pd.read_csv('/Users/hannahwurzel/Desktop/MLB/metadata/metadata_transformed.csv')\n",
    "y_with_weather = df_with_weather['total_score']\n",
    "df_with_weather = df_with_weather.drop(['away_team_score', 'home_team_score', 'game_date', 'total_score'], axis=1)\n",
    "X_with_weather = df_with_weather.iloc[:, :-1]\n",
    "X_train_weather, X_test_weather, y_train_weather, y_test_weather = train_test_split(\n",
    "    X_with_weather, y_with_weather, test_size=0.2, random_state=42)"
   ]
  },
  {
   "cell_type": "code",
   "execution_count": 14,
   "metadata": {},
   "outputs": [
    {
     "name": "stdout",
     "output_type": "stream",
     "text": [
      "Mean Squared Error: 20.350096494942573\n",
      "Mean Absolute Error: 3.5930247340503536\n",
      "R2: 0.005665039161971475\n",
      "Coefficients: [-5.10384247e-05 -1.55376302e-02  4.14387572e-03 -2.59800189e-02\n",
      "  1.24047244e-02 -6.27315790e-03 -3.22093539e-03  1.30943183e-02\n",
      "  3.50752158e-04]\n",
      "Intercept: 9.34954158011113\n"
     ]
    }
   ],
   "source": [
    "model_with_weather = LinearRegression()\n",
    "model_with_weather.fit(X_train_weather, y_train_weather)\n",
    "y_pred_weather = model_with_weather.predict(X_test_weather)\n",
    "\n",
    "mse_weather = mean_squared_error(y_test_weather, y_pred_weather)\n",
    "mae_weather = mean_absolute_error(y_test_weather, y_pred_weather)\n",
    "r2_weather = r2_score(y_test_weather, y_pred_weather)\n",
    "\n",
    "print(f\"Mean Squared Error: {mse_weather}\")\n",
    "print(f\"Mean Absolute Error: {mae_weather}\")\n",
    "print(f\"R2: {r2_weather}\")\n",
    "print(f\"Coefficients: {model_with_weather.coef_}\")\n",
    "print(f\"Intercept: {model_with_weather.intercept_}\")"
   ]
  },
  {
   "cell_type": "code",
   "execution_count": null,
   "metadata": {},
   "outputs": [],
   "source": []
  },
  {
   "cell_type": "code",
   "execution_count": null,
   "metadata": {},
   "outputs": [],
   "source": []
  }
 ],
 "metadata": {
  "kernelspec": {
   "display_name": ".venv",
   "language": "python",
   "name": "python3"
  },
  "language_info": {
   "codemirror_mode": {
    "name": "ipython",
    "version": 3
   },
   "file_extension": ".py",
   "mimetype": "text/x-python",
   "name": "python",
   "nbconvert_exporter": "python",
   "pygments_lexer": "ipython3",
   "version": "3.9.6"
  }
 },
 "nbformat": 4,
 "nbformat_minor": 2
}
